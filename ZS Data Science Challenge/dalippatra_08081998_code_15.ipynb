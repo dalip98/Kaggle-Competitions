{
 "cells": [
  {
   "cell_type": "markdown",
   "metadata": {},
   "source": [
    "**Data Preparation**"
   ]
  },
  {
   "cell_type": "code",
   "execution_count": 1,
   "metadata": {},
   "outputs": [],
   "source": [
    "#Importing the required Libraries for matrix operation and list operation\n",
    "import numpy as np\n",
    "import pandas as pd\n",
    "#Matplotlib for data visualization\n",
    "import matplotlib.pyplot as plt\n",
    "%matplotlib inline"
   ]
  },
  {
   "cell_type": "code",
   "execution_count": 2,
   "metadata": {},
   "outputs": [],
   "source": [
    "#Getting the provided data in our local workspace\n",
    "data = pd.read_csv(r\"C:\\Users\\HAPPY\\Desktop\\Cristano_Ronaldo_Final_v1\\data.csv\")\n",
    "submission = pd.read_csv(r\"C:\\Users\\HAPPY\\Desktop\\Cristano_Ronaldo_Final_v1\\sample_submission.csv\")"
   ]
  },
  {
   "cell_type": "code",
   "execution_count": 3,
   "metadata": {},
   "outputs": [
    {
     "data": {
      "text/html": [
       "<div>\n",
       "<style scoped>\n",
       "    .dataframe tbody tr th:only-of-type {\n",
       "        vertical-align: middle;\n",
       "    }\n",
       "\n",
       "    .dataframe tbody tr th {\n",
       "        vertical-align: top;\n",
       "    }\n",
       "\n",
       "    .dataframe thead th {\n",
       "        text-align: right;\n",
       "    }\n",
       "</style>\n",
       "<table border=\"1\" class=\"dataframe\">\n",
       "  <thead>\n",
       "    <tr style=\"text-align: right;\">\n",
       "      <th></th>\n",
       "      <th>Sno</th>\n",
       "      <th>match_event_id</th>\n",
       "      <th>location_x</th>\n",
       "      <th>location_y</th>\n",
       "      <th>remaining_min</th>\n",
       "      <th>power_of_shot</th>\n",
       "      <th>knockout_match</th>\n",
       "      <th>game_season</th>\n",
       "      <th>remaining_sec</th>\n",
       "      <th>distance_of_shot</th>\n",
       "      <th>...</th>\n",
       "      <th>lat/lng</th>\n",
       "      <th>type_of_shot</th>\n",
       "      <th>type_of_combined_shot</th>\n",
       "      <th>match_id</th>\n",
       "      <th>team_id</th>\n",
       "      <th>remaining_min.1</th>\n",
       "      <th>power_of_shot.1</th>\n",
       "      <th>knockout_match.1</th>\n",
       "      <th>remaining_sec.1</th>\n",
       "      <th>distance_of_shot.1</th>\n",
       "    </tr>\n",
       "  </thead>\n",
       "  <tbody>\n",
       "    <tr>\n",
       "      <th>0</th>\n",
       "      <td>0</td>\n",
       "      <td>10.0</td>\n",
       "      <td>167.0</td>\n",
       "      <td>72.0</td>\n",
       "      <td>10.0</td>\n",
       "      <td>1.0</td>\n",
       "      <td>0.0</td>\n",
       "      <td>2000-01</td>\n",
       "      <td>27.0</td>\n",
       "      <td>38.0</td>\n",
       "      <td>...</td>\n",
       "      <td>45.539131, -122.651648</td>\n",
       "      <td>shot - 30</td>\n",
       "      <td>NaN</td>\n",
       "      <td>20000012</td>\n",
       "      <td>1610612747</td>\n",
       "      <td>10.00</td>\n",
       "      <td>1.0</td>\n",
       "      <td>50.608</td>\n",
       "      <td>54.2000</td>\n",
       "      <td>38.0</td>\n",
       "    </tr>\n",
       "    <tr>\n",
       "      <th>1</th>\n",
       "      <td>1</td>\n",
       "      <td>12.0</td>\n",
       "      <td>-157.0</td>\n",
       "      <td>0.0</td>\n",
       "      <td>10.0</td>\n",
       "      <td>1.0</td>\n",
       "      <td>0.0</td>\n",
       "      <td>2000-01</td>\n",
       "      <td>22.0</td>\n",
       "      <td>35.0</td>\n",
       "      <td>...</td>\n",
       "      <td>45.539131, -122.651648</td>\n",
       "      <td>shot - 45</td>\n",
       "      <td>NaN</td>\n",
       "      <td>20000012</td>\n",
       "      <td>1610612747</td>\n",
       "      <td>10.00</td>\n",
       "      <td>1.0</td>\n",
       "      <td>28.800</td>\n",
       "      <td>22.0000</td>\n",
       "      <td>35.0</td>\n",
       "    </tr>\n",
       "    <tr>\n",
       "      <th>2</th>\n",
       "      <td>2</td>\n",
       "      <td>35.0</td>\n",
       "      <td>-101.0</td>\n",
       "      <td>135.0</td>\n",
       "      <td>7.0</td>\n",
       "      <td>1.0</td>\n",
       "      <td>0.0</td>\n",
       "      <td>2000-01</td>\n",
       "      <td>45.0</td>\n",
       "      <td>36.0</td>\n",
       "      <td>...</td>\n",
       "      <td>45.539131, -122.651648</td>\n",
       "      <td>shot - 25</td>\n",
       "      <td>NaN</td>\n",
       "      <td>20000012</td>\n",
       "      <td>1610612747</td>\n",
       "      <td>92.64</td>\n",
       "      <td>1.0</td>\n",
       "      <td>0.000</td>\n",
       "      <td>63.7216</td>\n",
       "      <td>54.4</td>\n",
       "    </tr>\n",
       "    <tr>\n",
       "      <th>3</th>\n",
       "      <td>3</td>\n",
       "      <td>43.0</td>\n",
       "      <td>138.0</td>\n",
       "      <td>175.0</td>\n",
       "      <td>6.0</td>\n",
       "      <td>1.0</td>\n",
       "      <td>0.0</td>\n",
       "      <td>2000-01</td>\n",
       "      <td>52.0</td>\n",
       "      <td>42.0</td>\n",
       "      <td>...</td>\n",
       "      <td>45.539131, -122.651648</td>\n",
       "      <td>NaN</td>\n",
       "      <td>shot - 3</td>\n",
       "      <td>20000012</td>\n",
       "      <td>1610612747</td>\n",
       "      <td>NaN</td>\n",
       "      <td>1.0</td>\n",
       "      <td>122.608</td>\n",
       "      <td>52.0000</td>\n",
       "      <td>42.0</td>\n",
       "    </tr>\n",
       "    <tr>\n",
       "      <th>4</th>\n",
       "      <td>4</td>\n",
       "      <td>155.0</td>\n",
       "      <td>0.0</td>\n",
       "      <td>0.0</td>\n",
       "      <td>NaN</td>\n",
       "      <td>2.0</td>\n",
       "      <td>0.0</td>\n",
       "      <td>2000-01</td>\n",
       "      <td>19.0</td>\n",
       "      <td>20.0</td>\n",
       "      <td>...</td>\n",
       "      <td>45.539131, -122.651648</td>\n",
       "      <td>NaN</td>\n",
       "      <td>shot - 1</td>\n",
       "      <td>20000012</td>\n",
       "      <td>1610612747</td>\n",
       "      <td>42.64</td>\n",
       "      <td>2.0</td>\n",
       "      <td>0.000</td>\n",
       "      <td>19.0000</td>\n",
       "      <td>20.0</td>\n",
       "    </tr>\n",
       "  </tbody>\n",
       "</table>\n",
       "<p>5 rows × 28 columns</p>\n",
       "</div>"
      ],
      "text/plain": [
       "   Sno  match_event_id  location_x  location_y  remaining_min  power_of_shot  \\\n",
       "0    0            10.0       167.0        72.0           10.0            1.0   \n",
       "1    1            12.0      -157.0         0.0           10.0            1.0   \n",
       "2    2            35.0      -101.0       135.0            7.0            1.0   \n",
       "3    3            43.0       138.0       175.0            6.0            1.0   \n",
       "4    4           155.0         0.0         0.0            NaN            2.0   \n",
       "\n",
       "   knockout_match game_season  remaining_sec  distance_of_shot  \\\n",
       "0             0.0     2000-01           27.0              38.0   \n",
       "1             0.0     2000-01           22.0              35.0   \n",
       "2             0.0     2000-01           45.0              36.0   \n",
       "3             0.0     2000-01           52.0              42.0   \n",
       "4             0.0     2000-01           19.0              20.0   \n",
       "\n",
       "         ...                         lat/lng type_of_shot  \\\n",
       "0        ...          45.539131, -122.651648    shot - 30   \n",
       "1        ...          45.539131, -122.651648    shot - 45   \n",
       "2        ...          45.539131, -122.651648    shot - 25   \n",
       "3        ...          45.539131, -122.651648          NaN   \n",
       "4        ...          45.539131, -122.651648          NaN   \n",
       "\n",
       "  type_of_combined_shot  match_id     team_id remaining_min.1 power_of_shot.1  \\\n",
       "0                   NaN  20000012  1610612747           10.00             1.0   \n",
       "1                   NaN  20000012  1610612747           10.00             1.0   \n",
       "2                   NaN  20000012  1610612747           92.64             1.0   \n",
       "3              shot - 3  20000012  1610612747             NaN             1.0   \n",
       "4              shot - 1  20000012  1610612747           42.64             2.0   \n",
       "\n",
       "   knockout_match.1 remaining_sec.1 distance_of_shot.1  \n",
       "0            50.608         54.2000               38.0  \n",
       "1            28.800         22.0000               35.0  \n",
       "2             0.000         63.7216               54.4  \n",
       "3           122.608         52.0000               42.0  \n",
       "4             0.000         19.0000               20.0  \n",
       "\n",
       "[5 rows x 28 columns]"
      ]
     },
     "execution_count": 3,
     "metadata": {},
     "output_type": "execute_result"
    }
   ],
   "source": [
    "#Overview of the data\n",
    "data.head()"
   ]
  },
  {
   "cell_type": "code",
   "execution_count": 4,
   "metadata": {},
   "outputs": [
    {
     "data": {
      "text/html": [
       "<div>\n",
       "<style scoped>\n",
       "    .dataframe tbody tr th:only-of-type {\n",
       "        vertical-align: middle;\n",
       "    }\n",
       "\n",
       "    .dataframe tbody tr th {\n",
       "        vertical-align: top;\n",
       "    }\n",
       "\n",
       "    .dataframe thead th {\n",
       "        text-align: right;\n",
       "    }\n",
       "</style>\n",
       "<table border=\"1\" class=\"dataframe\">\n",
       "  <thead>\n",
       "    <tr style=\"text-align: right;\">\n",
       "      <th></th>\n",
       "      <th>shot_id_number</th>\n",
       "      <th>is_goal</th>\n",
       "    </tr>\n",
       "  </thead>\n",
       "  <tbody>\n",
       "    <tr>\n",
       "      <th>0</th>\n",
       "      <td>1</td>\n",
       "      <td>0.390247</td>\n",
       "    </tr>\n",
       "    <tr>\n",
       "      <th>1</th>\n",
       "      <td>8</td>\n",
       "      <td>0.549184</td>\n",
       "    </tr>\n",
       "    <tr>\n",
       "      <th>2</th>\n",
       "      <td>17</td>\n",
       "      <td>0.555152</td>\n",
       "    </tr>\n",
       "    <tr>\n",
       "      <th>3</th>\n",
       "      <td>20</td>\n",
       "      <td>0.675646</td>\n",
       "    </tr>\n",
       "    <tr>\n",
       "      <th>4</th>\n",
       "      <td>33</td>\n",
       "      <td>0.395124</td>\n",
       "    </tr>\n",
       "  </tbody>\n",
       "</table>\n",
       "</div>"
      ],
      "text/plain": [
       "   shot_id_number   is_goal\n",
       "0               1  0.390247\n",
       "1               8  0.549184\n",
       "2              17  0.555152\n",
       "3              20  0.675646\n",
       "4              33  0.395124"
      ]
     },
     "execution_count": 4,
     "metadata": {},
     "output_type": "execute_result"
    }
   ],
   "source": [
    "submission.head()"
   ]
  },
  {
   "cell_type": "code",
   "execution_count": 5,
   "metadata": {},
   "outputs": [],
   "source": [
    "#Setting the index name to Sno since it will come handy later\n",
    "data.index.name = 'Sno'"
   ]
  },
  {
   "cell_type": "code",
   "execution_count": 6,
   "metadata": {},
   "outputs": [
    {
     "data": {
      "text/plain": [
       "Index(['Sno', 'match_event_id', 'location_x', 'location_y', 'remaining_min',\n",
       "       'power_of_shot', 'knockout_match', 'game_season', 'remaining_sec',\n",
       "       'distance_of_shot', 'is_goal', 'area_of_shot', 'shot_basics',\n",
       "       'range_of_shot', 'team_name', 'date_of_game', 'home/away',\n",
       "       'shot_id_number', 'lat/lng', 'type_of_shot', 'type_of_combined_shot',\n",
       "       'match_id', 'team_id', 'remaining_min.1', 'power_of_shot.1',\n",
       "       'knockout_match.1', 'remaining_sec.1', 'distance_of_shot.1'],\n",
       "      dtype='object')"
      ]
     },
     "execution_count": 6,
     "metadata": {},
     "output_type": "execute_result"
    }
   ],
   "source": [
    "data.columns"
   ]
  },
  {
   "cell_type": "code",
   "execution_count": 7,
   "metadata": {},
   "outputs": [
    {
     "name": "stdout",
     "output_type": "stream",
     "text": [
      "<class 'pandas.core.frame.DataFrame'>\n",
      "RangeIndex: 30697 entries, 0 to 30696\n",
      "Data columns (total 28 columns):\n",
      "Sno                      30697 non-null int64\n",
      "match_event_id           29134 non-null float64\n",
      "location_x               29236 non-null float64\n",
      "location_y               29157 non-null float64\n",
      "remaining_min            29135 non-null float64\n",
      "power_of_shot            29211 non-null float64\n",
      "knockout_match           29180 non-null float64\n",
      "game_season              24835 non-null object\n",
      "remaining_sec            29103 non-null float64\n",
      "distance_of_shot         29130 non-null float64\n",
      "is_goal                  24429 non-null float64\n",
      "area_of_shot             29195 non-null object\n",
      "shot_basics              29122 non-null object\n",
      "range_of_shot            29133 non-null object\n",
      "team_name                29162 non-null object\n",
      "date_of_game             29147 non-null object\n",
      "home/away                29200 non-null object\n",
      "shot_id_number           29134 non-null float64\n",
      "lat/lng                  29132 non-null object\n",
      "type_of_shot             15417 non-null object\n",
      "type_of_combined_shot    15280 non-null object\n",
      "match_id                 30697 non-null int64\n",
      "team_id                  30697 non-null int64\n",
      "remaining_min.1          29162 non-null float64\n",
      "power_of_shot.1          29158 non-null float64\n",
      "knockout_match.1         29204 non-null float64\n",
      "remaining_sec.1          29158 non-null float64\n",
      "distance_of_shot.1       29129 non-null float64\n",
      "dtypes: float64(15), int64(3), object(10)\n",
      "memory usage: 6.6+ MB\n"
     ]
    }
   ],
   "source": [
    "data.info()"
   ]
  },
  {
   "cell_type": "code",
   "execution_count": 8,
   "metadata": {},
   "outputs": [],
   "source": [
    "data['shot_id_number'] = data['Sno'] +1"
   ]
  },
  {
   "cell_type": "markdown",
   "metadata": {},
   "source": [
    "Since the shot_id_number will be one of the primary key to match the submission dataset and data . We need to fill all the NULL values."
   ]
  },
  {
   "cell_type": "code",
   "execution_count": 9,
   "metadata": {},
   "outputs": [
    {
     "data": {
      "text/html": [
       "<div>\n",
       "<style scoped>\n",
       "    .dataframe tbody tr th:only-of-type {\n",
       "        vertical-align: middle;\n",
       "    }\n",
       "\n",
       "    .dataframe tbody tr th {\n",
       "        vertical-align: top;\n",
       "    }\n",
       "\n",
       "    .dataframe thead th {\n",
       "        text-align: right;\n",
       "    }\n",
       "</style>\n",
       "<table border=\"1\" class=\"dataframe\">\n",
       "  <thead>\n",
       "    <tr style=\"text-align: right;\">\n",
       "      <th></th>\n",
       "      <th>Sno</th>\n",
       "      <th>match_event_id</th>\n",
       "      <th>location_x</th>\n",
       "      <th>location_y</th>\n",
       "      <th>remaining_min</th>\n",
       "      <th>power_of_shot</th>\n",
       "      <th>knockout_match</th>\n",
       "      <th>remaining_sec</th>\n",
       "      <th>distance_of_shot</th>\n",
       "      <th>is_goal</th>\n",
       "      <th>shot_id_number</th>\n",
       "      <th>match_id</th>\n",
       "      <th>team_id</th>\n",
       "      <th>remaining_min.1</th>\n",
       "      <th>power_of_shot.1</th>\n",
       "      <th>knockout_match.1</th>\n",
       "      <th>remaining_sec.1</th>\n",
       "      <th>distance_of_shot.1</th>\n",
       "    </tr>\n",
       "  </thead>\n",
       "  <tbody>\n",
       "    <tr>\n",
       "      <th>count</th>\n",
       "      <td>30697.000000</td>\n",
       "      <td>29134.000000</td>\n",
       "      <td>29236.000000</td>\n",
       "      <td>29157.000000</td>\n",
       "      <td>29135.000000</td>\n",
       "      <td>29211.000000</td>\n",
       "      <td>29180.000000</td>\n",
       "      <td>29103.000000</td>\n",
       "      <td>29130.000000</td>\n",
       "      <td>24429.000000</td>\n",
       "      <td>30697.000000</td>\n",
       "      <td>3.069700e+04</td>\n",
       "      <td>3.069700e+04</td>\n",
       "      <td>29162.000000</td>\n",
       "      <td>29158.000000</td>\n",
       "      <td>29204.000000</td>\n",
       "      <td>29158.000000</td>\n",
       "      <td>29129.000000</td>\n",
       "    </tr>\n",
       "    <tr>\n",
       "      <th>mean</th>\n",
       "      <td>15348.000000</td>\n",
       "      <td>249.576028</td>\n",
       "      <td>7.383876</td>\n",
       "      <td>91.126933</td>\n",
       "      <td>4.883233</td>\n",
       "      <td>2.519359</td>\n",
       "      <td>0.145956</td>\n",
       "      <td>28.329382</td>\n",
       "      <td>33.448884</td>\n",
       "      <td>0.445331</td>\n",
       "      <td>15349.000000</td>\n",
       "      <td>2.476407e+07</td>\n",
       "      <td>1.610613e+09</td>\n",
       "      <td>18.204615</td>\n",
       "      <td>15.994109</td>\n",
       "      <td>16.599402</td>\n",
       "      <td>39.027303</td>\n",
       "      <td>38.801852</td>\n",
       "    </tr>\n",
       "    <tr>\n",
       "      <th>std</th>\n",
       "      <td>8861.604943</td>\n",
       "      <td>150.186019</td>\n",
       "      <td>110.263049</td>\n",
       "      <td>87.676395</td>\n",
       "      <td>3.452533</td>\n",
       "      <td>1.153976</td>\n",
       "      <td>0.353068</td>\n",
       "      <td>17.470663</td>\n",
       "      <td>9.369656</td>\n",
       "      <td>0.497013</td>\n",
       "      <td>8861.604943</td>\n",
       "      <td>7.755175e+06</td>\n",
       "      <td>0.000000e+00</td>\n",
       "      <td>29.416973</td>\n",
       "      <td>29.676815</td>\n",
       "      <td>35.172016</td>\n",
       "      <td>29.835284</td>\n",
       "      <td>18.787711</td>\n",
       "    </tr>\n",
       "    <tr>\n",
       "      <th>min</th>\n",
       "      <td>0.000000</td>\n",
       "      <td>2.000000</td>\n",
       "      <td>-250.000000</td>\n",
       "      <td>-44.000000</td>\n",
       "      <td>0.000000</td>\n",
       "      <td>1.000000</td>\n",
       "      <td>0.000000</td>\n",
       "      <td>0.000000</td>\n",
       "      <td>20.000000</td>\n",
       "      <td>0.000000</td>\n",
       "      <td>1.000000</td>\n",
       "      <td>2.000001e+07</td>\n",
       "      <td>1.610613e+09</td>\n",
       "      <td>0.000000</td>\n",
       "      <td>1.000000</td>\n",
       "      <td>0.000000</td>\n",
       "      <td>0.000000</td>\n",
       "      <td>9.400000</td>\n",
       "    </tr>\n",
       "    <tr>\n",
       "      <th>25%</th>\n",
       "      <td>7674.000000</td>\n",
       "      <td>111.000000</td>\n",
       "      <td>-68.000000</td>\n",
       "      <td>4.000000</td>\n",
       "      <td>2.000000</td>\n",
       "      <td>1.000000</td>\n",
       "      <td>0.000000</td>\n",
       "      <td>13.000000</td>\n",
       "      <td>25.000000</td>\n",
       "      <td>0.000000</td>\n",
       "      <td>7675.000000</td>\n",
       "      <td>2.050008e+07</td>\n",
       "      <td>1.610613e+09</td>\n",
       "      <td>3.000000</td>\n",
       "      <td>2.000000</td>\n",
       "      <td>0.000000</td>\n",
       "      <td>17.000000</td>\n",
       "      <td>26.000000</td>\n",
       "    </tr>\n",
       "    <tr>\n",
       "      <th>50%</th>\n",
       "      <td>15348.000000</td>\n",
       "      <td>254.000000</td>\n",
       "      <td>0.000000</td>\n",
       "      <td>74.000000</td>\n",
       "      <td>5.000000</td>\n",
       "      <td>3.000000</td>\n",
       "      <td>0.000000</td>\n",
       "      <td>28.000000</td>\n",
       "      <td>35.000000</td>\n",
       "      <td>0.000000</td>\n",
       "      <td>15349.000000</td>\n",
       "      <td>2.090035e+07</td>\n",
       "      <td>1.610613e+09</td>\n",
       "      <td>6.000000</td>\n",
       "      <td>3.000000</td>\n",
       "      <td>0.000000</td>\n",
       "      <td>35.000000</td>\n",
       "      <td>36.000000</td>\n",
       "    </tr>\n",
       "    <tr>\n",
       "      <th>75%</th>\n",
       "      <td>23022.000000</td>\n",
       "      <td>369.000000</td>\n",
       "      <td>95.000000</td>\n",
       "      <td>160.000000</td>\n",
       "      <td>8.000000</td>\n",
       "      <td>3.000000</td>\n",
       "      <td>0.000000</td>\n",
       "      <td>43.000000</td>\n",
       "      <td>41.000000</td>\n",
       "      <td>1.000000</td>\n",
       "      <td>23023.000000</td>\n",
       "      <td>2.960047e+07</td>\n",
       "      <td>1.610613e+09</td>\n",
       "      <td>11.000000</td>\n",
       "      <td>4.000000</td>\n",
       "      <td>1.000000</td>\n",
       "      <td>52.000000</td>\n",
       "      <td>44.000000</td>\n",
       "    </tr>\n",
       "    <tr>\n",
       "      <th>max</th>\n",
       "      <td>30696.000000</td>\n",
       "      <td>659.000000</td>\n",
       "      <td>248.000000</td>\n",
       "      <td>791.000000</td>\n",
       "      <td>11.000000</td>\n",
       "      <td>7.000000</td>\n",
       "      <td>1.000000</td>\n",
       "      <td>59.000000</td>\n",
       "      <td>99.000000</td>\n",
       "      <td>1.000000</td>\n",
       "      <td>30697.000000</td>\n",
       "      <td>4.990009e+07</td>\n",
       "      <td>1.610613e+09</td>\n",
       "      <td>128.761600</td>\n",
       "      <td>118.360000</td>\n",
       "      <td>141.352320</td>\n",
       "      <td>144.785600</td>\n",
       "      <td>115.728000</td>\n",
       "    </tr>\n",
       "  </tbody>\n",
       "</table>\n",
       "</div>"
      ],
      "text/plain": [
       "                Sno  match_event_id    location_x    location_y  \\\n",
       "count  30697.000000    29134.000000  29236.000000  29157.000000   \n",
       "mean   15348.000000      249.576028      7.383876     91.126933   \n",
       "std     8861.604943      150.186019    110.263049     87.676395   \n",
       "min        0.000000        2.000000   -250.000000    -44.000000   \n",
       "25%     7674.000000      111.000000    -68.000000      4.000000   \n",
       "50%    15348.000000      254.000000      0.000000     74.000000   \n",
       "75%    23022.000000      369.000000     95.000000    160.000000   \n",
       "max    30696.000000      659.000000    248.000000    791.000000   \n",
       "\n",
       "       remaining_min  power_of_shot  knockout_match  remaining_sec  \\\n",
       "count   29135.000000   29211.000000    29180.000000   29103.000000   \n",
       "mean        4.883233       2.519359        0.145956      28.329382   \n",
       "std         3.452533       1.153976        0.353068      17.470663   \n",
       "min         0.000000       1.000000        0.000000       0.000000   \n",
       "25%         2.000000       1.000000        0.000000      13.000000   \n",
       "50%         5.000000       3.000000        0.000000      28.000000   \n",
       "75%         8.000000       3.000000        0.000000      43.000000   \n",
       "max        11.000000       7.000000        1.000000      59.000000   \n",
       "\n",
       "       distance_of_shot       is_goal  shot_id_number      match_id  \\\n",
       "count      29130.000000  24429.000000    30697.000000  3.069700e+04   \n",
       "mean          33.448884      0.445331    15349.000000  2.476407e+07   \n",
       "std            9.369656      0.497013     8861.604943  7.755175e+06   \n",
       "min           20.000000      0.000000        1.000000  2.000001e+07   \n",
       "25%           25.000000      0.000000     7675.000000  2.050008e+07   \n",
       "50%           35.000000      0.000000    15349.000000  2.090035e+07   \n",
       "75%           41.000000      1.000000    23023.000000  2.960047e+07   \n",
       "max           99.000000      1.000000    30697.000000  4.990009e+07   \n",
       "\n",
       "            team_id  remaining_min.1  power_of_shot.1  knockout_match.1  \\\n",
       "count  3.069700e+04     29162.000000     29158.000000      29204.000000   \n",
       "mean   1.610613e+09        18.204615        15.994109         16.599402   \n",
       "std    0.000000e+00        29.416973        29.676815         35.172016   \n",
       "min    1.610613e+09         0.000000         1.000000          0.000000   \n",
       "25%    1.610613e+09         3.000000         2.000000          0.000000   \n",
       "50%    1.610613e+09         6.000000         3.000000          0.000000   \n",
       "75%    1.610613e+09        11.000000         4.000000          1.000000   \n",
       "max    1.610613e+09       128.761600       118.360000        141.352320   \n",
       "\n",
       "       remaining_sec.1  distance_of_shot.1  \n",
       "count     29158.000000        29129.000000  \n",
       "mean         39.027303           38.801852  \n",
       "std          29.835284           18.787711  \n",
       "min           0.000000            9.400000  \n",
       "25%          17.000000           26.000000  \n",
       "50%          35.000000           36.000000  \n",
       "75%          52.000000           44.000000  \n",
       "max         144.785600          115.728000  "
      ]
     },
     "execution_count": 9,
     "metadata": {},
     "output_type": "execute_result"
    }
   ],
   "source": [
    "data.describe()"
   ]
  },
  {
   "cell_type": "markdown",
   "metadata": {},
   "source": [
    "**FIlling the NULL values**\n",
    "\n",
    "We can fill the columns date_of_game , knock_out_match , game_season and home/away by combining the rows with match_id and then fill it with the row having same match_id."
   ]
  },
  {
   "cell_type": "code",
   "execution_count": 10,
   "metadata": {},
   "outputs": [],
   "source": [
    "col = data[['match_id' ,'date_of_game' , 'knockout_match' , 'game_season' , 'home/away']]"
   ]
  },
  {
   "cell_type": "code",
   "execution_count": 11,
   "metadata": {},
   "outputs": [],
   "source": [
    "col = col[data[['match_id' ,'date_of_game' , 'knockout_match' , 'game_season' , 'home/away']].notnull().all(1)]"
   ]
  },
  {
   "cell_type": "code",
   "execution_count": 12,
   "metadata": {},
   "outputs": [],
   "source": [
    "col.drop_duplicates(subset = 'match_id' , keep = 'first',inplace = True)"
   ]
  },
  {
   "cell_type": "code",
   "execution_count": 13,
   "metadata": {},
   "outputs": [
    {
     "data": {
      "text/html": [
       "<div>\n",
       "<style scoped>\n",
       "    .dataframe tbody tr th:only-of-type {\n",
       "        vertical-align: middle;\n",
       "    }\n",
       "\n",
       "    .dataframe tbody tr th {\n",
       "        vertical-align: top;\n",
       "    }\n",
       "\n",
       "    .dataframe thead th {\n",
       "        text-align: right;\n",
       "    }\n",
       "</style>\n",
       "<table border=\"1\" class=\"dataframe\">\n",
       "  <thead>\n",
       "    <tr style=\"text-align: right;\">\n",
       "      <th></th>\n",
       "      <th>match_id</th>\n",
       "      <th>date_of_game</th>\n",
       "      <th>knockout_match</th>\n",
       "      <th>game_season</th>\n",
       "      <th>home/away</th>\n",
       "    </tr>\n",
       "    <tr>\n",
       "      <th>Sno</th>\n",
       "      <th></th>\n",
       "      <th></th>\n",
       "      <th></th>\n",
       "      <th></th>\n",
       "      <th></th>\n",
       "    </tr>\n",
       "  </thead>\n",
       "  <tbody>\n",
       "    <tr>\n",
       "      <th>0</th>\n",
       "      <td>20000012</td>\n",
       "      <td>31-10-2000</td>\n",
       "      <td>0.0</td>\n",
       "      <td>2000-01</td>\n",
       "      <td>MANU @ POR</td>\n",
       "    </tr>\n",
       "    <tr>\n",
       "      <th>11</th>\n",
       "      <td>20000019</td>\n",
       "      <td>01-11-2000</td>\n",
       "      <td>0.0</td>\n",
       "      <td>2000-01</td>\n",
       "      <td>MANU vs. UTA</td>\n",
       "    </tr>\n",
       "    <tr>\n",
       "      <th>32</th>\n",
       "      <td>20000047</td>\n",
       "      <td>04-11-2000</td>\n",
       "      <td>0.0</td>\n",
       "      <td>2000-01</td>\n",
       "      <td>MANU @ VAN</td>\n",
       "    </tr>\n",
       "    <tr>\n",
       "      <th>52</th>\n",
       "      <td>20000049</td>\n",
       "      <td>05-11-2000</td>\n",
       "      <td>0.0</td>\n",
       "      <td>2000-01</td>\n",
       "      <td>MANU vs. LAC</td>\n",
       "    </tr>\n",
       "    <tr>\n",
       "      <th>66</th>\n",
       "      <td>20000058</td>\n",
       "      <td>07-11-2000</td>\n",
       "      <td>0.0</td>\n",
       "      <td>2000-01</td>\n",
       "      <td>MANU @ HOU</td>\n",
       "    </tr>\n",
       "  </tbody>\n",
       "</table>\n",
       "</div>"
      ],
      "text/plain": [
       "     match_id date_of_game  knockout_match game_season     home/away\n",
       "Sno                                                                 \n",
       "0    20000012   31-10-2000             0.0     2000-01    MANU @ POR\n",
       "11   20000019   01-11-2000             0.0     2000-01  MANU vs. UTA\n",
       "32   20000047   04-11-2000             0.0     2000-01    MANU @ VAN\n",
       "52   20000049   05-11-2000             0.0     2000-01  MANU vs. LAC\n",
       "66   20000058   07-11-2000             0.0     2000-01    MANU @ HOU"
      ]
     },
     "execution_count": 13,
     "metadata": {},
     "output_type": "execute_result"
    }
   ],
   "source": [
    "col.head()"
   ]
  },
  {
   "cell_type": "code",
   "execution_count": 14,
   "metadata": {},
   "outputs": [
    {
     "data": {
      "text/plain": [
       "match_id          0\n",
       "date_of_game      0\n",
       "knockout_match    0\n",
       "game_season       0\n",
       "home/away         0\n",
       "dtype: int64"
      ]
     },
     "execution_count": 14,
     "metadata": {},
     "output_type": "execute_result"
    }
   ],
   "source": [
    "col.isnull().sum()"
   ]
  },
  {
   "cell_type": "code",
   "execution_count": 15,
   "metadata": {},
   "outputs": [],
   "source": [
    "for i in range (1,col.shape[0]):\n",
    "    data.loc[data['match_id'] == col.iloc[i]['match_id'] ,'date_of_game' ] = col.iloc[i]['date_of_game']\n",
    "    data.loc[data['match_id'] == col.iloc[i]['match_id'] ,'knockout_match' ] = col.iloc[i]['knockout_match']\n",
    "    data.loc[data['match_id'] == col.iloc[i]['match_id'] ,'game_season' ] = col.iloc[i]['game_season']\n",
    "    data.loc[data['match_id'] == col.iloc[i]['match_id'] ,'home/away' ] = col.iloc[i]['home/away']"
   ]
  },
  {
   "cell_type": "markdown",
   "metadata": {},
   "source": [
    "Removing columns that were noise to our dataset."
   ]
  },
  {
   "cell_type": "code",
   "execution_count": 16,
   "metadata": {},
   "outputs": [],
   "source": [
    "data = data.iloc[:,0:22]"
   ]
  },
  {
   "cell_type": "code",
   "execution_count": 17,
   "metadata": {},
   "outputs": [],
   "source": [
    "data['type_of_shot'].fillna('' , inplace = True)"
   ]
  },
  {
   "cell_type": "code",
   "execution_count": 18,
   "metadata": {},
   "outputs": [],
   "source": [
    "data['type_of_combined_shot'].fillna('',inplace = True)"
   ]
  },
  {
   "cell_type": "markdown",
   "metadata": {},
   "source": [
    "Combining the columns type_of_shot and type_of_combined_shot."
   ]
  },
  {
   "cell_type": "code",
   "execution_count": 19,
   "metadata": {},
   "outputs": [],
   "source": [
    "data['type_of_shot'] = data['type_of_shot'] + data['type_of_combined_shot']"
   ]
  },
  {
   "cell_type": "code",
   "execution_count": 20,
   "metadata": {},
   "outputs": [
    {
     "data": {
      "text/plain": [
       "0"
      ]
     },
     "execution_count": 20,
     "metadata": {},
     "output_type": "execute_result"
    }
   ],
   "source": [
    "data['type_of_shot'].isnull().sum()"
   ]
  },
  {
   "cell_type": "markdown",
   "metadata": {},
   "source": [
    "Drop all the duplicate columns . "
   ]
  },
  {
   "cell_type": "code",
   "execution_count": 21,
   "metadata": {},
   "outputs": [],
   "source": [
    "data.drop(columns = ['Sno' , 'match_event_id' ,'game_season','team_name' ,'lat/lng','type_of_combined_shot'],axis = 1,inplace =True)"
   ]
  },
  {
   "cell_type": "code",
   "execution_count": 22,
   "metadata": {},
   "outputs": [
    {
     "name": "stdout",
     "output_type": "stream",
     "text": [
      "<class 'pandas.core.frame.DataFrame'>\n",
      "RangeIndex: 30697 entries, 0 to 30696\n",
      "Data columns (total 16 columns):\n",
      "location_x          29236 non-null float64\n",
      "location_y          29157 non-null float64\n",
      "remaining_min       29135 non-null float64\n",
      "power_of_shot       29211 non-null float64\n",
      "knockout_match      30697 non-null float64\n",
      "remaining_sec       29103 non-null float64\n",
      "distance_of_shot    29130 non-null float64\n",
      "is_goal             24429 non-null float64\n",
      "area_of_shot        29195 non-null object\n",
      "shot_basics         29122 non-null object\n",
      "range_of_shot       29133 non-null object\n",
      "date_of_game        30695 non-null object\n",
      "home/away           30693 non-null object\n",
      "shot_id_number      30697 non-null int64\n",
      "type_of_shot        30697 non-null object\n",
      "match_id            30697 non-null int64\n",
      "dtypes: float64(8), int64(2), object(6)\n",
      "memory usage: 3.7+ MB\n"
     ]
    }
   ],
   "source": [
    "data.info()"
   ]
  },
  {
   "cell_type": "markdown",
   "metadata": {},
   "source": [
    "Visualising all the columns having object type and filling the NULL Values respectively."
   ]
  },
  {
   "cell_type": "code",
   "execution_count": 23,
   "metadata": {},
   "outputs": [
    {
     "data": {
      "text/plain": [
       "<matplotlib.axes._subplots.AxesSubplot at 0x1531ac07080>"
      ]
     },
     "execution_count": 23,
     "metadata": {},
     "output_type": "execute_result"
    },
    {
     "data": {
      "image/png": "[encoded data removed]",
      "text/plain": [
       "<Figure size 432x288 with 1 Axes>"
      ]
     },
     "metadata": {
      "needs_background": "light"
     },
     "output_type": "display_data"
    }
   ],
   "source": [
    "data['area_of_shot'].value_counts().plot.bar()"
   ]
  },
  {
   "cell_type": "code",
   "execution_count": 24,
   "metadata": {},
   "outputs": [
    {
     "data": {
      "text/plain": [
       "<matplotlib.axes._subplots.AxesSubplot at 0x15317c41a20>"
      ]
     },
     "execution_count": 24,
     "metadata": {},
     "output_type": "execute_result"
    },
    {
     "data": {
      "image/png": "[encoded data removed]",
      "text/plain": [
       "<Figure size 432x288 with 1 Axes>"
      ]
     },
     "metadata": {
      "needs_background": "light"
     },
     "output_type": "display_data"
    }
   ],
   "source": [
    "data['range_of_shot'].value_counts().plot.bar()"
   ]
  },
  {
   "cell_type": "code",
   "execution_count": 25,
   "metadata": {},
   "outputs": [
    {
     "data": {
      "text/plain": [
       "<matplotlib.axes._subplots.AxesSubplot at 0x1531aea2588>"
      ]
     },
     "execution_count": 25,
     "metadata": {},
     "output_type": "execute_result"
    },
    {
     "data": {
      "image/png": "[encoded data removed]",
      "text/plain": [
       "<Figure size 1152x648 with 1 Axes>"
      ]
     },
     "metadata": {
      "needs_background": "light"
     },
     "output_type": "display_data"
    }
   ],
   "source": [
    "data['distance_of_shot'].value_counts().plot.bar(figsize= (16,9))"
   ]
  },
  {
   "cell_type": "code",
   "execution_count": 26,
   "metadata": {},
   "outputs": [
    {
     "data": {
      "text/plain": [
       "<matplotlib.axes._subplots.AxesSubplot at 0x1531b0fd5f8>"
      ]
     },
     "execution_count": 26,
     "metadata": {},
     "output_type": "execute_result"
    },
    {
     "data": {
      "image/png": "[encoded data removed]",
      "text/plain": [
       "<Figure size 432x288 with 1 Axes>"
      ]
     },
     "metadata": {
      "needs_background": "light"
     },
     "output_type": "display_data"
    }
   ],
   "source": [
    "data['shot_basics'].value_counts().plot.bar()"
   ]
  },
  {
   "cell_type": "code",
   "execution_count": 27,
   "metadata": {},
   "outputs": [
    {
     "data": {
      "text/plain": [
       "<matplotlib.axes._subplots.AxesSubplot at 0x1531ac127f0>"
      ]
     },
     "execution_count": 27,
     "metadata": {},
     "output_type": "execute_result"
    },
    {
     "data": {
      "image/png": "[encoded data removed]",
      "text/plain": [
       "<Figure size 1152x648 with 1 Axes>"
      ]
     },
     "metadata": {
      "needs_background": "light"
     },
     "output_type": "display_data"
    }
   ],
   "source": [
    "data['type_of_shot'].value_counts().plot.bar(figsize = (16,9))"
   ]
  },
  {
   "cell_type": "code",
   "execution_count": 28,
   "metadata": {},
   "outputs": [],
   "source": [
    "data['away/home'] = 0\n",
    "data['home/away'] = data['home/away'].astype(str)"
   ]
  },
  {
   "cell_type": "markdown",
   "metadata": {},
   "source": [
    "Here we encoded the home/away column depending upon whether it contains '@' or not."
   ]
  },
  {
   "cell_type": "code",
   "execution_count": 29,
   "metadata": {},
   "outputs": [],
   "source": [
    "data['away/home'] = data['home/away'].str.find('@')"
   ]
  },
  {
   "cell_type": "code",
   "execution_count": 30,
   "metadata": {},
   "outputs": [],
   "source": [
    "data.loc[data['away/home']>=0,'away/home'] = 1\n",
    "data.loc[data['away/home']<0,'away/home'] = 0"
   ]
  },
  {
   "cell_type": "code",
   "execution_count": 31,
   "metadata": {},
   "outputs": [
    {
     "data": {
      "text/plain": [
       "<matplotlib.axes._subplots.AxesSubplot at 0x1531ac12c18>"
      ]
     },
     "execution_count": 31,
     "metadata": {},
     "output_type": "execute_result"
    },
    {
     "data": {
      "image/png": "[encoded data removed]",
      "text/plain": [
       "<Figure size 432x288 with 1 Axes>"
      ]
     },
     "metadata": {
      "needs_background": "light"
     },
     "output_type": "display_data"
    }
   ],
   "source": [
    "data['away/home'].value_counts().plot.bar()"
   ]
  },
  {
   "cell_type": "code",
   "execution_count": 32,
   "metadata": {},
   "outputs": [
    {
     "name": "stdout",
     "output_type": "stream",
     "text": [
      "<class 'pandas.core.frame.DataFrame'>\n",
      "RangeIndex: 30697 entries, 0 to 30696\n",
      "Data columns (total 17 columns):\n",
      "location_x          29236 non-null float64\n",
      "location_y          29157 non-null float64\n",
      "remaining_min       29135 non-null float64\n",
      "power_of_shot       29211 non-null float64\n",
      "knockout_match      30697 non-null float64\n",
      "remaining_sec       29103 non-null float64\n",
      "distance_of_shot    29130 non-null float64\n",
      "is_goal             24429 non-null float64\n",
      "area_of_shot        29195 non-null object\n",
      "shot_basics         29122 non-null object\n",
      "range_of_shot       29133 non-null object\n",
      "date_of_game        30695 non-null object\n",
      "home/away           30697 non-null object\n",
      "shot_id_number      30697 non-null int64\n",
      "type_of_shot        30697 non-null object\n",
      "match_id            30697 non-null int64\n",
      "away/home           30697 non-null int64\n",
      "dtypes: float64(8), int64(3), object(6)\n",
      "memory usage: 4.0+ MB\n"
     ]
    }
   ],
   "source": [
    "data.info()"
   ]
  },
  {
   "cell_type": "markdown",
   "metadata": {},
   "source": [
    "Add more features to our dataset."
   ]
  },
  {
   "cell_type": "code",
   "execution_count": 33,
   "metadata": {},
   "outputs": [],
   "source": [
    "data['date_of_game'] = pd.to_datetime(data['date_of_game'])"
   ]
  },
  {
   "cell_type": "code",
   "execution_count": 34,
   "metadata": {},
   "outputs": [],
   "source": [
    "data['Month'] = data['date_of_game'].dt.month\n",
    "data['Year']  =data['date_of_game'].dt.year\n",
    "data['Day']  = data['date_of_game'].dt.day"
   ]
  },
  {
   "cell_type": "code",
   "execution_count": 35,
   "metadata": {},
   "outputs": [
    {
     "data": {
      "text/plain": [
       "1575"
      ]
     },
     "execution_count": 35,
     "metadata": {},
     "output_type": "execute_result"
    }
   ],
   "source": [
    "data['shot_basics'].isnull().sum()"
   ]
  },
  {
   "cell_type": "code",
   "execution_count": 36,
   "metadata": {},
   "outputs": [
    {
     "data": {
      "text/plain": [
       "1564"
      ]
     },
     "execution_count": 36,
     "metadata": {},
     "output_type": "execute_result"
    }
   ],
   "source": [
    "data['range_of_shot'].isnull().sum()"
   ]
  },
  {
   "cell_type": "code",
   "execution_count": 37,
   "metadata": {},
   "outputs": [],
   "source": [
    "data.loc[data['shot_basics']=='Mid Range','range_of_shot'] = \"16-24 ft.\"\n",
    "data.loc[data['shot_basics']=='Penalty Spot','range_of_shot'] = \"24+ ft.\"\n",
    "data.loc[data['shot_basics']=='Goal Area','range_of_shot'] = \"Less Than 8 ft.\"\n",
    "data.loc[data['shot_basics']=='Goal Line','range_of_shot'] = \"8-16 ft.\""
   ]
  },
  {
   "cell_type": "code",
   "execution_count": 38,
   "metadata": {},
   "outputs": [
    {
     "data": {
      "text/plain": [
       "103"
      ]
     },
     "execution_count": 38,
     "metadata": {},
     "output_type": "execute_result"
    }
   ],
   "source": [
    "data['range_of_shot'].isnull().sum()"
   ]
  },
  {
   "cell_type": "code",
   "execution_count": 39,
   "metadata": {},
   "outputs": [
    {
     "data": {
      "text/plain": [
       "<matplotlib.axes._subplots.AxesSubplot at 0x1531b32fdd8>"
      ]
     },
     "execution_count": 39,
     "metadata": {},
     "output_type": "execute_result"
    },
    {
     "data": {
      "image/png": "[encoded data removed]",
      "text/plain": [
       "<Figure size 432x288 with 1 Axes>"
      ]
     },
     "metadata": {
      "needs_background": "light"
     },
     "output_type": "display_data"
    }
   ],
   "source": [
    "data['range_of_shot'].value_counts().plot.bar()"
   ]
  },
  {
   "cell_type": "code",
   "execution_count": 40,
   "metadata": {},
   "outputs": [],
   "source": [
    "data['area_of_shot'].fillna('Center(C)' , inplace = True)\n",
    "data['range_of_shot'].fillna('16-24 ft.',inplace =True)\n",
    "data['type_of_shot'].fillna('shot - 3',inplace =True)\n",
    "data['shot_basics'].fillna('Mid Range',inplace =True)"
   ]
  },
  {
   "cell_type": "code",
   "execution_count": 41,
   "metadata": {},
   "outputs": [
    {
     "data": {
      "text/plain": [
       "location_x          1461\n",
       "location_y          1540\n",
       "remaining_min       1562\n",
       "power_of_shot       1486\n",
       "knockout_match         0\n",
       "remaining_sec       1594\n",
       "distance_of_shot    1567\n",
       "is_goal             6268\n",
       "area_of_shot           0\n",
       "shot_basics            0\n",
       "range_of_shot          0\n",
       "date_of_game           2\n",
       "home/away              0\n",
       "shot_id_number         0\n",
       "type_of_shot           0\n",
       "match_id               0\n",
       "away/home              0\n",
       "Month                  2\n",
       "Year                   2\n",
       "Day                    2\n",
       "dtype: int64"
      ]
     },
     "execution_count": 41,
     "metadata": {},
     "output_type": "execute_result"
    }
   ],
   "source": [
    "data.isnull().sum()"
   ]
  },
  {
   "cell_type": "code",
   "execution_count": 42,
   "metadata": {},
   "outputs": [],
   "source": [
    "data['location_x'].fillna((data['location_x'].mean()), inplace=True)\n",
    "data['location_y'].fillna((data['location_y'].mean()), inplace=True)\n",
    "data['remaining_min'].fillna((data['remaining_min'].mean()), inplace=True)\n",
    "data['power_of_shot'].fillna((data['power_of_shot'].mean()), inplace=True)\n",
    "data['remaining_sec'].fillna((data['remaining_sec'].mean()), inplace=True)\n",
    "data['distance_of_shot'].fillna((data['distance_of_shot'].mean()), inplace=True)"
   ]
  },
  {
   "cell_type": "code",
   "execution_count": 43,
   "metadata": {},
   "outputs": [
    {
     "data": {
      "text/plain": [
       "location_x             0\n",
       "location_y             0\n",
       "remaining_min          0\n",
       "power_of_shot          0\n",
       "knockout_match         0\n",
       "remaining_sec          0\n",
       "distance_of_shot       0\n",
       "is_goal             6268\n",
       "area_of_shot           0\n",
       "shot_basics            0\n",
       "range_of_shot          0\n",
       "date_of_game           2\n",
       "home/away              0\n",
       "shot_id_number         0\n",
       "type_of_shot           0\n",
       "match_id               0\n",
       "away/home              0\n",
       "Month                  2\n",
       "Year                   2\n",
       "Day                    2\n",
       "dtype: int64"
      ]
     },
     "execution_count": 43,
     "metadata": {},
     "output_type": "execute_result"
    }
   ],
   "source": [
    "data.isnull().sum()"
   ]
  },
  {
   "cell_type": "code",
   "execution_count": 44,
   "metadata": {},
   "outputs": [
    {
     "data": {
      "text/html": [
       "<div>\n",
       "<style scoped>\n",
       "    .dataframe tbody tr th:only-of-type {\n",
       "        vertical-align: middle;\n",
       "    }\n",
       "\n",
       "    .dataframe tbody tr th {\n",
       "        vertical-align: top;\n",
       "    }\n",
       "\n",
       "    .dataframe thead th {\n",
       "        text-align: right;\n",
       "    }\n",
       "</style>\n",
       "<table border=\"1\" class=\"dataframe\">\n",
       "  <thead>\n",
       "    <tr style=\"text-align: right;\">\n",
       "      <th></th>\n",
       "      <th>location_x</th>\n",
       "      <th>location_y</th>\n",
       "      <th>remaining_min</th>\n",
       "      <th>power_of_shot</th>\n",
       "      <th>knockout_match</th>\n",
       "      <th>remaining_sec</th>\n",
       "      <th>distance_of_shot</th>\n",
       "      <th>is_goal</th>\n",
       "      <th>area_of_shot</th>\n",
       "      <th>shot_basics</th>\n",
       "      <th>range_of_shot</th>\n",
       "      <th>date_of_game</th>\n",
       "      <th>home/away</th>\n",
       "      <th>shot_id_number</th>\n",
       "      <th>type_of_shot</th>\n",
       "      <th>match_id</th>\n",
       "      <th>away/home</th>\n",
       "      <th>Month</th>\n",
       "      <th>Year</th>\n",
       "      <th>Day</th>\n",
       "    </tr>\n",
       "    <tr>\n",
       "      <th>Sno</th>\n",
       "      <th></th>\n",
       "      <th></th>\n",
       "      <th></th>\n",
       "      <th></th>\n",
       "      <th></th>\n",
       "      <th></th>\n",
       "      <th></th>\n",
       "      <th></th>\n",
       "      <th></th>\n",
       "      <th></th>\n",
       "      <th></th>\n",
       "      <th></th>\n",
       "      <th></th>\n",
       "      <th></th>\n",
       "      <th></th>\n",
       "      <th></th>\n",
       "      <th></th>\n",
       "      <th></th>\n",
       "      <th></th>\n",
       "      <th></th>\n",
       "    </tr>\n",
       "  </thead>\n",
       "  <tbody>\n",
       "    <tr>\n",
       "      <th>6909</th>\n",
       "      <td>-176.0</td>\n",
       "      <td>189.0</td>\n",
       "      <td>11.0</td>\n",
       "      <td>1.0</td>\n",
       "      <td>0.0</td>\n",
       "      <td>40.0</td>\n",
       "      <td>45.0</td>\n",
       "      <td>NaN</td>\n",
       "      <td>Left Side Center(LC)</td>\n",
       "      <td>Penalty Spot</td>\n",
       "      <td>24+ ft.</td>\n",
       "      <td>NaT</td>\n",
       "      <td>MANU vs. CLE</td>\n",
       "      <td>6910</td>\n",
       "      <td>shot - 3</td>\n",
       "      <td>20400518</td>\n",
       "      <td>0</td>\n",
       "      <td>NaN</td>\n",
       "      <td>NaN</td>\n",
       "      <td>NaN</td>\n",
       "    </tr>\n",
       "    <tr>\n",
       "      <th>22902</th>\n",
       "      <td>-131.0</td>\n",
       "      <td>97.0</td>\n",
       "      <td>10.0</td>\n",
       "      <td>2.0</td>\n",
       "      <td>0.0</td>\n",
       "      <td>8.0</td>\n",
       "      <td>36.0</td>\n",
       "      <td>0.0</td>\n",
       "      <td>Left Side Center(LC)</td>\n",
       "      <td>Mid Range</td>\n",
       "      <td>16-24 ft.</td>\n",
       "      <td>NaT</td>\n",
       "      <td>MANU @ NYK</td>\n",
       "      <td>22903</td>\n",
       "      <td>shot - 9</td>\n",
       "      <td>29600031</td>\n",
       "      <td>1</td>\n",
       "      <td>NaN</td>\n",
       "      <td>NaN</td>\n",
       "      <td>NaN</td>\n",
       "    </tr>\n",
       "  </tbody>\n",
       "</table>\n",
       "</div>"
      ],
      "text/plain": [
       "       location_x  location_y  remaining_min  power_of_shot  knockout_match  \\\n",
       "Sno                                                                           \n",
       "6909       -176.0       189.0           11.0            1.0             0.0   \n",
       "22902      -131.0        97.0           10.0            2.0             0.0   \n",
       "\n",
       "       remaining_sec  distance_of_shot  is_goal          area_of_shot  \\\n",
       "Sno                                                                     \n",
       "6909            40.0              45.0      NaN  Left Side Center(LC)   \n",
       "22902            8.0              36.0      0.0  Left Side Center(LC)   \n",
       "\n",
       "        shot_basics range_of_shot date_of_game     home/away  shot_id_number  \\\n",
       "Sno                                                                            \n",
       "6909   Penalty Spot       24+ ft.          NaT  MANU vs. CLE            6910   \n",
       "22902     Mid Range     16-24 ft.          NaT    MANU @ NYK           22903   \n",
       "\n",
       "      type_of_shot  match_id  away/home  Month  Year  Day  \n",
       "Sno                                                        \n",
       "6909      shot - 3  20400518          0    NaN   NaN  NaN  \n",
       "22902     shot - 9  29600031          1    NaN   NaN  NaN  "
      ]
     },
     "execution_count": 44,
     "metadata": {},
     "output_type": "execute_result"
    }
   ],
   "source": [
    "data[data['Month'].isnull()]"
   ]
  },
  {
   "cell_type": "code",
   "execution_count": 45,
   "metadata": {},
   "outputs": [],
   "source": [
    "data.loc[data['match_id']==20400518,'Year'] = 2005\n",
    "data.loc[data['match_id']==20400518,'Month'] = 1\n",
    "data.loc[data['match_id']==20400518,'Day'] = 13"
   ]
  },
  {
   "cell_type": "code",
   "execution_count": 46,
   "metadata": {},
   "outputs": [
    {
     "data": {
      "text/plain": [
       "location_x             0\n",
       "location_y             0\n",
       "remaining_min          0\n",
       "power_of_shot          0\n",
       "knockout_match         0\n",
       "remaining_sec          0\n",
       "distance_of_shot       0\n",
       "is_goal             6268\n",
       "area_of_shot           0\n",
       "shot_basics            0\n",
       "range_of_shot          0\n",
       "date_of_game           2\n",
       "home/away              0\n",
       "shot_id_number         0\n",
       "type_of_shot           0\n",
       "match_id               0\n",
       "away/home              0\n",
       "Month                  1\n",
       "Year                   1\n",
       "Day                    1\n",
       "dtype: int64"
      ]
     },
     "execution_count": 46,
     "metadata": {},
     "output_type": "execute_result"
    }
   ],
   "source": [
    "data.isnull().sum()"
   ]
  },
  {
   "cell_type": "code",
   "execution_count": 47,
   "metadata": {},
   "outputs": [],
   "source": [
    "data.drop(columns = ['date_of_game' ,'home/away'],axis = 1,inplace =True)"
   ]
  },
  {
   "cell_type": "code",
   "execution_count": 48,
   "metadata": {},
   "outputs": [
    {
     "name": "stdout",
     "output_type": "stream",
     "text": [
      "<class 'pandas.core.frame.DataFrame'>\n",
      "RangeIndex: 30697 entries, 0 to 30696\n",
      "Data columns (total 18 columns):\n",
      "location_x          30697 non-null float64\n",
      "location_y          30697 non-null float64\n",
      "remaining_min       30697 non-null float64\n",
      "power_of_shot       30697 non-null float64\n",
      "knockout_match      30697 non-null float64\n",
      "remaining_sec       30697 non-null float64\n",
      "distance_of_shot    30697 non-null float64\n",
      "is_goal             24429 non-null float64\n",
      "area_of_shot        30697 non-null object\n",
      "shot_basics         30697 non-null object\n",
      "range_of_shot       30697 non-null object\n",
      "shot_id_number      30697 non-null int64\n",
      "type_of_shot        30697 non-null object\n",
      "match_id            30697 non-null int64\n",
      "away/home           30697 non-null int64\n",
      "Month               30696 non-null float64\n",
      "Year                30696 non-null float64\n",
      "Day                 30696 non-null float64\n",
      "dtypes: float64(11), int64(3), object(4)\n",
      "memory usage: 4.2+ MB\n"
     ]
    }
   ],
   "source": [
    "data.info()"
   ]
  },
  {
   "cell_type": "code",
   "execution_count": 49,
   "metadata": {},
   "outputs": [],
   "source": [
    "data['area_of_shot'].replace(['Center(C)' ,'Right Side Center(RC)','Right Side(R)','Left Side Center(LC)','Left Side(L)','Mid Ground(MG)'],[0,1,2,3,4,5],inplace =True)\n"
   ]
  },
  {
   "cell_type": "code",
   "execution_count": 50,
   "metadata": {},
   "outputs": [],
   "source": [
    "data['shot_basics'].replace(['Mid Range' ,'Goal Area','Penalty Spot','Goal Line','Right Corner','Left Corner','Mid Ground Line'],[0,1,2,3,4,5,6],inplace =True)\n"
   ]
  },
  {
   "cell_type": "code",
   "execution_count": 51,
   "metadata": {},
   "outputs": [],
   "source": [
    "data['range_of_shot'].replace(['16-24 ft.' ,'Less Than 8 ft.','24+ ft.','8-16 ft.','Back Court Shot'],[0,1,2,3,4],inplace =True)\n"
   ]
  },
  {
   "cell_type": "code",
   "execution_count": 52,
   "metadata": {},
   "outputs": [
    {
     "name": "stdout",
     "output_type": "stream",
     "text": [
      "<class 'pandas.core.frame.DataFrame'>\n",
      "RangeIndex: 30697 entries, 0 to 30696\n",
      "Data columns (total 18 columns):\n",
      "location_x          30697 non-null float64\n",
      "location_y          30697 non-null float64\n",
      "remaining_min       30697 non-null float64\n",
      "power_of_shot       30697 non-null float64\n",
      "knockout_match      30697 non-null float64\n",
      "remaining_sec       30697 non-null float64\n",
      "distance_of_shot    30697 non-null float64\n",
      "is_goal             24429 non-null float64\n",
      "area_of_shot        30697 non-null int64\n",
      "shot_basics         30697 non-null int64\n",
      "range_of_shot       30697 non-null int64\n",
      "shot_id_number      30697 non-null int64\n",
      "type_of_shot        30697 non-null object\n",
      "match_id            30697 non-null int64\n",
      "away/home           30697 non-null int64\n",
      "Month               30696 non-null float64\n",
      "Year                30696 non-null float64\n",
      "Day                 30696 non-null float64\n",
      "dtypes: float64(11), int64(6), object(1)\n",
      "memory usage: 4.2+ MB\n"
     ]
    }
   ],
   "source": [
    "data.info()"
   ]
  },
  {
   "cell_type": "code",
   "execution_count": 53,
   "metadata": {},
   "outputs": [
    {
     "data": {
      "text/plain": [
       "<matplotlib.axes._subplots.AxesSubplot at 0x1531afb5cc0>"
      ]
     },
     "execution_count": 53,
     "metadata": {},
     "output_type": "execute_result"
    },
    {
     "data": {
      "image/png": "[encoded data removed]",
      "text/plain": [
       "<Figure size 1440x576 with 1 Axes>"
      ]
     },
     "metadata": {
      "needs_background": "light"
     },
     "output_type": "display_data"
    }
   ],
   "source": [
    "data['type_of_shot'].value_counts().plot.bar(figsize = (20,8))"
   ]
  },
  {
   "cell_type": "code",
   "execution_count": 54,
   "metadata": {},
   "outputs": [],
   "source": [
    "data['type_of_shot'].replace(['shot - 0' ,'shot - 1' ,'shot - 2' ,'shot - 3' ,'shot - 4' ,'shot - 5' ,'shot - 6' ,'shot - 7' ,'shot - 8' ,'shot - 9' ,'shot - 10' ,'shot - 11' ,'shot - 12' ,'shot - 13' ,'shot - 14' ,'shot - 15' ,'shot - 16' ,'shot - 17' ,'shot - 18' ,'shot - 19' ,'shot - 20' ,'shot - 21' ,'shot - 22' ,'shot - 23' ,'shot - 24' ,'shot - 25' ,'shot - 26' ,'shot - 27' ,'shot - 28' ,'shot - 29' ,'shot - 30' ,'shot - 31' ,'shot - 32' ,'shot - 33' ,'shot - 34' ,'shot - 35' ,'shot - 36' ,'shot - 37' ,'shot - 38' ,'shot - 39' ,'shot - 40' ,'shot - 41' ,'shot - 42' ,'shot - 43' ,'shot - 44' ,'shot - 45' ,'shot - 46' ,'shot - 47' ,'shot - 48' ,'shot - 49' ,'shot - 50' ,'shot - 51' ,'shot - 52' ,'shot - 53' ,'shot - 54' ,'shot - 55' ,'shot - 56' ],[0,1,2,3,4,5,6,7,8,9,10,11,12,13,14,15,16,17,18,19,20,21,22,23,24,25,26,27,28,29,30,31,32,33,34,35,36,37,38,39,40,41,42,43,44,45,46,47,48,49,50,51,52,53,54,55,56],inplace =True)"
   ]
  },
  {
   "cell_type": "code",
   "execution_count": 55,
   "metadata": {},
   "outputs": [
    {
     "name": "stdout",
     "output_type": "stream",
     "text": [
      "<class 'pandas.core.frame.DataFrame'>\n",
      "RangeIndex: 30697 entries, 0 to 30696\n",
      "Data columns (total 18 columns):\n",
      "location_x          30697 non-null float64\n",
      "location_y          30697 non-null float64\n",
      "remaining_min       30697 non-null float64\n",
      "power_of_shot       30697 non-null float64\n",
      "knockout_match      30697 non-null float64\n",
      "remaining_sec       30697 non-null float64\n",
      "distance_of_shot    30697 non-null float64\n",
      "is_goal             24429 non-null float64\n",
      "area_of_shot        30697 non-null int64\n",
      "shot_basics         30697 non-null int64\n",
      "range_of_shot       30697 non-null int64\n",
      "shot_id_number      30697 non-null int64\n",
      "type_of_shot        30697 non-null int64\n",
      "match_id            30697 non-null int64\n",
      "away/home           30697 non-null int64\n",
      "Month               30696 non-null float64\n",
      "Year                30696 non-null float64\n",
      "Day                 30696 non-null float64\n",
      "dtypes: float64(11), int64(7)\n",
      "memory usage: 4.2 MB\n"
     ]
    }
   ],
   "source": [
    "data.info()"
   ]
  },
  {
   "cell_type": "markdown",
   "metadata": {},
   "source": [
    "**Separating the training and test data**"
   ]
  },
  {
   "cell_type": "code",
   "execution_count": 56,
   "metadata": {},
   "outputs": [],
   "source": [
    "a = set(submission[\"shot_id_number\"])\n",
    "a = list(a)"
   ]
  },
  {
   "cell_type": "code",
   "execution_count": 57,
   "metadata": {},
   "outputs": [],
   "source": [
    "len(a)\n",
    "test = data.loc[data['shot_id_number'].isin(a)]"
   ]
  },
  {
   "cell_type": "code",
   "execution_count": 58,
   "metadata": {},
   "outputs": [
    {
     "data": {
      "text/plain": [
       "(5000, 18)"
      ]
     },
     "execution_count": 58,
     "metadata": {},
     "output_type": "execute_result"
    }
   ],
   "source": [
    "test.shape"
   ]
  },
  {
   "cell_type": "code",
   "execution_count": 59,
   "metadata": {},
   "outputs": [],
   "source": [
    "train = data[data['is_goal'].notnull()]"
   ]
  },
  {
   "cell_type": "code",
   "execution_count": 60,
   "metadata": {},
   "outputs": [],
   "source": [
    "train.shape\n",
    "train = train.dropna()"
   ]
  },
  {
   "cell_type": "code",
   "execution_count": 61,
   "metadata": {},
   "outputs": [],
   "source": [
    "y_train = train['is_goal']"
   ]
  },
  {
   "cell_type": "code",
   "execution_count": 62,
   "metadata": {},
   "outputs": [],
   "source": [
    "train.drop(columns = ['match_id' , 'shot_id_number','remaining_min','remaining_sec'],axis = 1,inplace = True)"
   ]
  },
  {
   "cell_type": "code",
   "execution_count": 63,
   "metadata": {},
   "outputs": [
    {
     "name": "stdout",
     "output_type": "stream",
     "text": [
      "<class 'pandas.core.frame.DataFrame'>\n",
      "Int64Index: 24428 entries, 1 to 30696\n",
      "Data columns (total 14 columns):\n",
      "location_x          24428 non-null float64\n",
      "location_y          24428 non-null float64\n",
      "power_of_shot       24428 non-null float64\n",
      "knockout_match      24428 non-null float64\n",
      "distance_of_shot    24428 non-null float64\n",
      "is_goal             24428 non-null float64\n",
      "area_of_shot        24428 non-null int64\n",
      "shot_basics         24428 non-null int64\n",
      "range_of_shot       24428 non-null int64\n",
      "type_of_shot        24428 non-null int64\n",
      "away/home           24428 non-null int64\n",
      "Month               24428 non-null float64\n",
      "Year                24428 non-null float64\n",
      "Day                 24428 non-null float64\n",
      "dtypes: float64(9), int64(5)\n",
      "memory usage: 2.8 MB\n"
     ]
    }
   ],
   "source": [
    "train.info()"
   ]
  },
  {
   "cell_type": "code",
   "execution_count": 64,
   "metadata": {},
   "outputs": [
    {
     "name": "stderr",
     "output_type": "stream",
     "text": [
      "c:\\users\\happy\\appdata\\local\\programs\\python\\python36\\lib\\site-packages\\pandas\\core\\frame.py:3697: SettingWithCopyWarning: \n",
      "A value is trying to be set on a copy of a slice from a DataFrame\n",
      "\n",
      "See the caveats in the documentation: http://pandas.pydata.org/pandas-docs/stable/indexing.html#indexing-view-versus-copy\n",
      "  errors=errors)\n"
     ]
    }
   ],
   "source": [
    "test.drop(columns = ['is_goal' , 'match_id' , 'shot_id_number','remaining_min','remaining_sec'],axis = 1,inplace = True)"
   ]
  },
  {
   "cell_type": "code",
   "execution_count": 65,
   "metadata": {},
   "outputs": [
    {
     "data": {
      "text/plain": [
       "(5000, 13)"
      ]
     },
     "execution_count": 65,
     "metadata": {},
     "output_type": "execute_result"
    }
   ],
   "source": [
    "test.shape"
   ]
  },
  {
   "cell_type": "code",
   "execution_count": 66,
   "metadata": {},
   "outputs": [],
   "source": [
    "train_df = train"
   ]
  },
  {
   "cell_type": "code",
   "execution_count": 67,
   "metadata": {},
   "outputs": [],
   "source": [
    "target = 'is_goal'\n",
    "predictors = test.columns.values.tolist()"
   ]
  },
  {
   "cell_type": "code",
   "execution_count": 68,
   "metadata": {},
   "outputs": [
    {
     "data": {
      "text/plain": [
       "0.0    13549\n",
       "1.0    10879\n",
       "Name: is_goal, dtype: int64"
      ]
     },
     "execution_count": 68,
     "metadata": {},
     "output_type": "execute_result"
    }
   ],
   "source": [
    "train_df['is_goal'].value_counts()"
   ]
  },
  {
   "cell_type": "markdown",
   "metadata": {},
   "source": [
    "**MODEL**"
   ]
  },
  {
   "cell_type": "markdown",
   "metadata": {},
   "source": [
    "Here I have used Light Gradient Boost Model which is one of the tree based model.\n",
    "I have used Bayesian Optimization to find the respective optimal parameters."
   ]
  },
  {
   "cell_type": "code",
   "execution_count": 69,
   "metadata": {},
   "outputs": [],
   "source": [
    "from sklearn.model_selection import StratifiedKFold\n",
    "bayesian_tr_index, bayesian_val_index  = list(StratifiedKFold(n_splits=2, shuffle=True, random_state=1).split(train_df, train_df['is_goal'].values))[0]"
   ]
  },
  {
   "cell_type": "markdown",
   "metadata": {},
   "source": [
    "**Bayesian Optimization Technique**\n",
    "\n",
    " Black box function to be optimized (LightGBM)"
   ]
  },
  {
   "cell_type": "code",
   "execution_count": 70,
   "metadata": {},
   "outputs": [],
   "source": [
    "from sklearn import metrics\n",
    "def LGB_bayesian(\n",
    "    num_leaves,  # int\n",
    "    min_data_in_leaf,  # int\n",
    "    learning_rate,\n",
    "    min_sum_hessian_in_leaf,    # int  \n",
    "    feature_fraction,\n",
    "    lambda_l1,\n",
    "    lambda_l2,\n",
    "    min_gain_to_split,\n",
    "    max_depth):\n",
    "    \n",
    "    # LightGBM expects next three parameters need to be integer. So we make them integer\n",
    "    num_leaves = int(num_leaves)\n",
    "    min_data_in_leaf = int(min_data_in_leaf)\n",
    "    max_depth = int(max_depth)\n",
    "\n",
    "    assert type(num_leaves) == int\n",
    "    assert type(min_data_in_leaf) == int\n",
    "    assert type(max_depth) == int\n",
    "\n",
    "    param = {\n",
    "        'num_leaves': num_leaves,\n",
    "        'min_data_in_leaf': min_data_in_leaf,\n",
    "        'learning_rate': learning_rate,\n",
    "        'min_sum_hessian_in_leaf': min_sum_hessian_in_leaf,\n",
    "        'bagging_fraction' : 1,\n",
    "        'feature_fraction': feature_fraction,\n",
    "        'lambda_l1': lambda_l1,\n",
    "        'lambda_l2': lambda_l2,\n",
    "        'min_gain_to_split': min_gain_to_split,\n",
    "        'max_depth': max_depth,\n",
    "        'save_binary': True, \n",
    "        'objective': 'binary',\n",
    "        'boosting_type': 'gbdt',\n",
    "        'verbose': 1,\n",
    "        'metric': 'mae',\n",
    "        'is_unbalance': True,\n",
    "        'boost_from_average': True,   \n",
    "\n",
    "    }    \n",
    "    \n",
    "    \n",
    "    xg_train = lgb.Dataset(train_df.iloc[bayesian_tr_index][predictors].values,\n",
    "                           label=train_df.iloc[bayesian_tr_index][target].values,\n",
    "                           feature_name=predictors,\n",
    "                           free_raw_data = False\n",
    "                           )\n",
    "    xg_valid = lgb.Dataset(train_df.iloc[bayesian_val_index][predictors].values,\n",
    "                           label=train_df.iloc[bayesian_val_index][target].values,\n",
    "                           feature_name=predictors,\n",
    "                           free_raw_data = False\n",
    "                           )   \n",
    "\n",
    "    num_round = 5000\n",
    "    clf = lgb.train(param, xg_train, num_round, valid_sets = [xg_valid], verbose_eval=250, early_stopping_rounds = 50)\n",
    "    \n",
    "    predictions = clf.predict(train_df.iloc[bayesian_val_index][predictors].values, num_iteration=clf.best_iteration)   \n",
    "    \n",
    "    score = metrics.roc_auc_score(train_df.iloc[bayesian_val_index][target].values, predictions)\n",
    "    \n",
    "    return score"
   ]
  },
  {
   "cell_type": "markdown",
   "metadata": {},
   "source": [
    "Now I need to give bounds for these parameters, so that Bayesian optimization only search inside the bounds."
   ]
  },
  {
   "cell_type": "code",
   "execution_count": 71,
   "metadata": {},
   "outputs": [],
   "source": [
    "bounds_LGB = {\n",
    "    'num_leaves': (5, 30), \n",
    "    'min_data_in_leaf': (5, 30),  \n",
    "    'learning_rate': (0.01, 0.3),\n",
    "    'min_sum_hessian_in_leaf': (0.00001, 0.01),    \n",
    "    'feature_fraction': (0.05, 0.5),\n",
    "    'lambda_l1': (0, 5.0), \n",
    "    'lambda_l2': (0, 5.0), \n",
    "    'min_gain_to_split': (0, 1.0),\n",
    "    'max_depth':(3,20),\n",
    "}"
   ]
  },
  {
   "cell_type": "markdown",
   "metadata": {},
   "source": [
    "Let's put all of them in BayesianOptimization object"
   ]
  },
  {
   "cell_type": "code",
   "execution_count": 72,
   "metadata": {},
   "outputs": [],
   "source": [
    "from bayes_opt import BayesianOptimization"
   ]
  },
  {
   "cell_type": "code",
   "execution_count": 73,
   "metadata": {},
   "outputs": [],
   "source": [
    "LGB_BO = BayesianOptimization(LGB_bayesian, bounds_LGB, random_state=0)"
   ]
  },
  {
   "cell_type": "code",
   "execution_count": 74,
   "metadata": {},
   "outputs": [
    {
     "name": "stdout",
     "output_type": "stream",
     "text": [
      "['feature_fraction', 'lambda_l1', 'lambda_l2', 'learning_rate', 'max_depth', 'min_data_in_leaf', 'min_gain_to_split', 'min_sum_hessian_in_leaf', 'num_leaves']\n"
     ]
    }
   ],
   "source": [
    "print(LGB_BO.space.keys)"
   ]
  },
  {
   "cell_type": "code",
   "execution_count": 75,
   "metadata": {},
   "outputs": [],
   "source": [
    "init_points = 5\n",
    "n_iter = 5"
   ]
  },
  {
   "cell_type": "code",
   "execution_count": 76,
   "metadata": {},
   "outputs": [
    {
     "name": "stdout",
     "output_type": "stream",
     "text": [
      "----------------------------------------------------------------------------------------------------------------------------------\n",
      "|   iter    |  target   | featur... | lambda_l1 | lambda_l2 | learni... | max_depth | min_da... | min_ga... | min_su... | num_le... |\n",
      "-------------------------------------------------------------------------------------------------------------------------------------\n",
      "Training until validation scores don't improve for 50 rounds.\n",
      "Early stopping, best iteration is:\n",
      "[83]\tvalid_0's l1: 0.462094\n",
      "| \u001b[0m 1       \u001b[0m | \u001b[0m 0.641   \u001b[0m | \u001b[0m 0.297   \u001b[0m | \u001b[0m 3.576   \u001b[0m | \u001b[0m 3.014   \u001b[0m | \u001b[0m 0.168   \u001b[0m | \u001b[0m 10.2    \u001b[0m | \u001b[0m 21.15   \u001b[0m | \u001b[0m 0.4376  \u001b[0m | \u001b[0m 0.008919\u001b[0m | \u001b[0m 29.09   \u001b[0m |\n",
      "Training until validation scores don't improve for 50 rounds.\n",
      "Early stopping, best iteration is:\n",
      "[167]\tvalid_0's l1: 0.459343\n",
      "| \u001b[0m 2       \u001b[0m | \u001b[0m 0.6403  \u001b[0m | \u001b[0m 0.2225  \u001b[0m | \u001b[0m 3.959   \u001b[0m | \u001b[0m 2.644   \u001b[0m | \u001b[0m 0.1747  \u001b[0m | \u001b[0m 18.74   \u001b[0m | \u001b[0m 6.776   \u001b[0m | \u001b[0m 0.08713 \u001b[0m | \u001b[0m 0.000212\u001b[0m | \u001b[0m 25.82   \u001b[0m |\n",
      "Training until validation scores don't improve for 50 rounds.\n",
      "Early stopping, best iteration is:\n",
      "[95]\tvalid_0's l1: 0.461342\n",
      "| \u001b[0m 3       \u001b[0m | \u001b[0m 0.641   \u001b[0m | \u001b[0m 0.4002  \u001b[0m | \u001b[0m 4.35    \u001b[0m | \u001b[0m 4.893   \u001b[0m | \u001b[0m 0.2418  \u001b[0m | \u001b[0m 10.85   \u001b[0m | \u001b[0m 24.51   \u001b[0m | \u001b[0m 0.1183  \u001b[0m | \u001b[0m 0.006403\u001b[0m | \u001b[0m 8.584   \u001b[0m |\n",
      "Training until validation scores don't improve for 50 rounds.\n",
      "Early stopping, best iteration is:\n",
      "[79]\tvalid_0's l1: 0.461292\n",
      "| \u001b[95m 4       \u001b[0m | \u001b[95m 0.645   \u001b[0m | \u001b[95m 0.4751  \u001b[0m | \u001b[95m 2.609   \u001b[0m | \u001b[95m 2.073   \u001b[0m | \u001b[95m 0.08672 \u001b[0m | \u001b[95m 16.16   \u001b[0m | \u001b[95m 16.4    \u001b[0m | \u001b[95m 0.5684  \u001b[0m | \u001b[95m 0.000197\u001b[0m | \u001b[95m 20.44   \u001b[0m |\n",
      "Training until validation scores don't improve for 50 rounds.\n",
      "Early stopping, best iteration is:\n",
      "[47]\tvalid_0's l1: 0.462412\n",
      "| \u001b[0m 5       \u001b[0m | \u001b[0m 0.6442  \u001b[0m | \u001b[0m 0.3254  \u001b[0m | \u001b[0m 3.085   \u001b[0m | \u001b[0m 4.719   \u001b[0m | \u001b[0m 0.2077  \u001b[0m | \u001b[0m 9.112   \u001b[0m | \u001b[0m 15.93   \u001b[0m | \u001b[0m 0.6976  \u001b[0m | \u001b[0m 0.000611\u001b[0m | \u001b[0m 21.67   \u001b[0m |\n",
      "Training until validation scores don't improve for 50 rounds.\n",
      "[250]\tvalid_0's l1: 0.46835\n",
      "[500]\tvalid_0's l1: 0.464625\n",
      "[750]\tvalid_0's l1: 0.462625\n",
      "[1000]\tvalid_0's l1: 0.461491\n",
      "[1250]\tvalid_0's l1: 0.460819\n",
      "Early stopping, best iteration is:\n",
      "[1360]\tvalid_0's l1: 0.46054\n",
      "| \u001b[0m 6       \u001b[0m | \u001b[0m 0.6377  \u001b[0m | \u001b[0m 0.3573  \u001b[0m | \u001b[0m 4.538   \u001b[0m | \u001b[0m 1.373   \u001b[0m | \u001b[0m 0.04757 \u001b[0m | \u001b[0m 3.078   \u001b[0m | \u001b[0m 29.61   \u001b[0m | \u001b[0m 0.002476\u001b[0m | \u001b[0m 0.008036\u001b[0m | \u001b[0m 5.173   \u001b[0m |\n",
      "Training until validation scores don't improve for 50 rounds.\n",
      "[250]\tvalid_0's l1: 0.459424\n",
      "Early stopping, best iteration is:\n",
      "[262]\tvalid_0's l1: 0.459385\n",
      "| \u001b[0m 7       \u001b[0m | \u001b[0m 0.6394  \u001b[0m | \u001b[0m 0.2892  \u001b[0m | \u001b[0m 0.05595 \u001b[0m | \u001b[0m 4.956   \u001b[0m | \u001b[0m 0.07064 \u001b[0m | \u001b[0m 19.99   \u001b[0m | \u001b[0m 28.89   \u001b[0m | \u001b[0m 0.2674  \u001b[0m | \u001b[0m 0.001136\u001b[0m | \u001b[0m 26.21   \u001b[0m |\n",
      "Training until validation scores don't improve for 50 rounds.\n",
      "[250]\tvalid_0's l1: 0.463566\n",
      "Early stopping, best iteration is:\n",
      "[241]\tvalid_0's l1: 0.463566\n",
      "| \u001b[0m 8       \u001b[0m | \u001b[0m 0.6403  \u001b[0m | \u001b[0m 0.1584  \u001b[0m | \u001b[0m 0.1539  \u001b[0m | \u001b[0m 0.4173  \u001b[0m | \u001b[0m 0.1531  \u001b[0m | \u001b[0m 3.597   \u001b[0m | \u001b[0m 5.421   \u001b[0m | \u001b[0m 0.5282  \u001b[0m | \u001b[0m 0.009445\u001b[0m | \u001b[0m 6.19    \u001b[0m |\n",
      "Training until validation scores don't improve for 50 rounds.\n",
      "[250]\tvalid_0's l1: 0.465943\n",
      "Early stopping, best iteration is:\n",
      "[309]\tvalid_0's l1: 0.46522\n",
      "| \u001b[0m 9       \u001b[0m | \u001b[0m 0.6402  \u001b[0m | \u001b[0m 0.3207  \u001b[0m | \u001b[0m 4.936   \u001b[0m | \u001b[0m 4.908   \u001b[0m | \u001b[0m 0.06062 \u001b[0m | \u001b[0m 3.229   \u001b[0m | \u001b[0m 5.481   \u001b[0m | \u001b[0m 0.4158  \u001b[0m | \u001b[0m 0.001306\u001b[0m | \u001b[0m 29.99   \u001b[0m |\n",
      "Training until validation scores don't improve for 50 rounds.\n",
      "Early stopping, best iteration is:\n",
      "[187]\tvalid_0's l1: 0.45171\n",
      "| \u001b[0m 10      \u001b[0m | \u001b[0m 0.6235  \u001b[0m | \u001b[0m 0.4913  \u001b[0m | \u001b[0m 0.8704  \u001b[0m | \u001b[0m 4.254   \u001b[0m | \u001b[0m 0.2872  \u001b[0m | \u001b[0m 19.6    \u001b[0m | \u001b[0m 5.084   \u001b[0m | \u001b[0m 0.03649 \u001b[0m | \u001b[0m 0.003327\u001b[0m | \u001b[0m 29.38   \u001b[0m |\n",
      "=====================================================================================================================================\n"
     ]
    }
   ],
   "source": [
    "import warnings\n",
    "import lightgbm as lgb\n",
    "print('-' * 130)\n",
    "\n",
    "with warnings.catch_warnings():\n",
    "    warnings.filterwarnings('ignore')\n",
    "    LGB_BO.maximize(init_points=init_points, n_iter=n_iter, acq='ucb', xi=0.0, alpha=1e-6)"
   ]
  },
  {
   "cell_type": "code",
   "execution_count": 77,
   "metadata": {},
   "outputs": [
    {
     "data": {
      "text/plain": [
       "0.6450038121337096"
      ]
     },
     "execution_count": 77,
     "metadata": {},
     "output_type": "execute_result"
    }
   ],
   "source": [
    "LGB_BO.max['target']"
   ]
  },
  {
   "cell_type": "code",
   "execution_count": 78,
   "metadata": {},
   "outputs": [],
   "source": [
    "LGB_BO.probe(\n",
    "    params={'feature_fraction': 0.1403, \n",
    "            'lambda_l1': 4.218, \n",
    "            'lambda_l2': 1.734, \n",
    "            'learning_rate': 0.07, \n",
    "            'max_depth': 14, \n",
    "            'min_data_in_leaf': 17, \n",
    "            'min_gain_to_split': 0.1501, \n",
    "            'min_sum_hessian_in_leaf': 0.000446, \n",
    "            'num_leaves': 6},\n",
    "    lazy=True, # \n",
    ")"
   ]
  },
  {
   "cell_type": "code",
   "execution_count": 79,
   "metadata": {},
   "outputs": [
    {
     "name": "stdout",
     "output_type": "stream",
     "text": [
      "|   iter    |  target   | featur... | lambda_l1 | lambda_l2 | learni... | max_depth | min_da... | min_ga... | min_su... | num_le... |\n",
      "-------------------------------------------------------------------------------------------------------------------------------------\n",
      "Training until validation scores don't improve for 50 rounds.\n",
      "[250]\tvalid_0's l1: 0.470586\n",
      "[500]\tvalid_0's l1: 0.467476\n",
      "[750]\tvalid_0's l1: 0.465873\n",
      "[1000]\tvalid_0's l1: 0.464908\n",
      "[1250]\tvalid_0's l1: 0.464218\n",
      "Early stopping, best iteration is:\n",
      "[1220]\tvalid_0's l1: 0.46421\n",
      "| \u001b[0m 11      \u001b[0m | \u001b[0m 0.6399  \u001b[0m | \u001b[0m 0.1403  \u001b[0m | \u001b[0m 4.218   \u001b[0m | \u001b[0m 1.734   \u001b[0m | \u001b[0m 0.07    \u001b[0m | \u001b[0m 14.0    \u001b[0m | \u001b[0m 17.0    \u001b[0m | \u001b[0m 0.1501  \u001b[0m | \u001b[0m 0.000446\u001b[0m | \u001b[0m 6.0     \u001b[0m |\n",
      "=====================================================================================================================================\n"
     ]
    }
   ],
   "source": [
    "LGB_BO.maximize(init_points=0, n_iter=0)"
   ]
  },
  {
   "cell_type": "code",
   "execution_count": 80,
   "metadata": {},
   "outputs": [
    {
     "name": "stdout",
     "output_type": "stream",
     "text": [
      "Iteration 0: \n",
      "\t{'target': 0.6410088588018232, 'params': {'feature_fraction': 0.29696607676729614, 'lambda_l1': 3.5759468318620975, 'lambda_l2': 3.0138168803582195, 'learning_rate': 0.16801612306910008, 'max_depth': 10.202131588761379, 'min_data_in_leaf': 21.147352826666403, 'min_gain_to_split': 0.4375872112626925, 'min_sum_hessian_in_leaf': 0.008918812277812977, 'num_leaves': 29.09156901252573}}\n",
      "Iteration 1: \n",
      "\t{'target': 0.64025101747341, 'params': {'feature_fraction': 0.22254868347159995, 'lambda_l1': 3.958625190413323, 'lambda_l2': 2.644474598764522, 'learning_rate': 0.17473292271724036, 'max_depth': 18.735142850975237, 'min_data_in_leaf': 6.775901454947173, 'min_gain_to_split': 0.08712929970154071, 'min_sum_hessian_in_leaf': 0.00021198179042885394, 'num_leaves': 25.81549613869845}}\n",
      "Iteration 2: \n",
      "\t{'target': 0.6409778190796613, 'params': {'feature_fraction': 0.40017053792743273, 'lambda_l1': 4.3500607412340955, 'lambda_l2': 4.89309171116382, 'learning_rate': 0.24175598362284983, 'max_depth': 10.845149158299842, 'min_data_in_leaf': 24.513229407161386, 'min_gain_to_split': 0.11827442586893322, 'min_sum_hessian_in_leaf': 0.006402811003061963, 'num_leaves': 8.58383218522616}}\n",
      "Iteration 3: \n",
      "\t{'target': 0.6450038121337096, 'params': {'feature_fraction': 0.47510101267231275, 'lambda_l1': 2.6092416087503585, 'lambda_l2': 2.0733096999526177, 'learning_rate': 0.0867211275103418, 'max_depth': 16.161972720381684, 'min_data_in_leaf': 16.403758305413714, 'min_gain_to_split': 0.5684339488686485, 'min_sum_hessian_in_leaf': 0.00019771010635918787, 'num_leaves': 20.44088742689693}}\n",
      "Iteration 4: \n",
      "\t{'target': 0.6441819920772738, 'params': {'feature_fraction': 0.32544307522508964, 'lambda_l1': 3.0846699843737846, 'lambda_l2': 4.718740392573121, 'learning_rate': 0.2077278867400102, 'max_depth': 9.111634309754361, 'min_data_in_leaf': 15.925798844983536, 'min_gain_to_split': 0.6976311959272649, 'min_sum_hessian_in_leaf': 0.0006116524615764058, 'num_leaves': 21.669167886141693}}\n",
      "Iteration 5: \n",
      "\t{'target': 0.6376627143477317, 'params': {'feature_fraction': 0.35725917203731444, 'lambda_l1': 4.537970103312684, 'lambda_l2': 1.372573813093182, 'learning_rate': 0.0475703844102342, 'max_depth': 3.077841024209638, 'min_data_in_leaf': 29.61487400534951, 'min_gain_to_split': 0.0024759047620925845, 'min_sum_hessian_in_leaf': 0.008036162358905754, 'num_leaves': 5.173332190992487}}\n",
      "Iteration 6: \n",
      "\t{'target': 0.639417516822227, 'params': {'feature_fraction': 0.2892153951582081, 'lambda_l1': 0.055952281148702876, 'lambda_l2': 4.956287938216515, 'learning_rate': 0.07064156906640726, 'max_depth': 19.990828425298147, 'min_data_in_leaf': 28.88993800776199, 'min_gain_to_split': 0.2674034967995417, 'min_sum_hessian_in_leaf': 0.0011364046650213042, 'num_leaves': 26.214285561655043}}\n",
      "Iteration 7: \n",
      "\t{'target': 0.6402699017799001, 'params': {'feature_fraction': 0.1584154464019287, 'lambda_l1': 0.15388499430206815, 'lambda_l2': 0.4172796722471467, 'learning_rate': 0.1531012342495277, 'max_depth': 3.597347261083449, 'min_data_in_leaf': 5.421099808290329, 'min_gain_to_split': 0.5282126385296826, 'min_sum_hessian_in_leaf': 0.009445340669552113, 'num_leaves': 6.189773265204899}}\n",
      "Iteration 8: \n",
      "\t{'target': 0.6402026807032777, 'params': {'feature_fraction': 0.32071105390791704, 'lambda_l1': 4.935580216681793, 'lambda_l2': 4.907551613222437, 'learning_rate': 0.060617194687861205, 'max_depth': 3.2288450019539248, 'min_data_in_leaf': 5.480922895213679, 'min_gain_to_split': 0.4157810021700923, 'min_sum_hessian_in_leaf': 0.001306365555894038, 'num_leaves': 29.991031931687452}}\n",
      "Iteration 9: \n",
      "\t{'target': 0.6235055893205991, 'params': {'feature_fraction': 0.4913326209879698, 'lambda_l1': 0.8703844507781022, 'lambda_l2': 4.254181234884194, 'learning_rate': 0.2871600743547013, 'max_depth': 19.60475543639756, 'min_data_in_leaf': 5.084491770589606, 'min_gain_to_split': 0.03648659044193481, 'min_sum_hessian_in_leaf': 0.003327034617169774, 'num_leaves': 29.379324561692002}}\n",
      "Iteration 10: \n",
      "\t{'target': 0.6398939521380508, 'params': {'feature_fraction': 0.1403, 'lambda_l1': 4.218, 'lambda_l2': 1.734, 'learning_rate': 0.07, 'max_depth': 14.0, 'min_data_in_leaf': 17.0, 'min_gain_to_split': 0.1501, 'min_sum_hessian_in_leaf': 0.000446, 'num_leaves': 6.0}}\n"
     ]
    }
   ],
   "source": [
    "for i, res in enumerate(LGB_BO.res):\n",
    "    print(\"Iteration {}: \\n\\t{}\".format(i, res))"
   ]
  },
  {
   "cell_type": "code",
   "execution_count": 81,
   "metadata": {},
   "outputs": [
    {
     "data": {
      "text/plain": [
       "0.6450038121337096"
      ]
     },
     "execution_count": 81,
     "metadata": {},
     "output_type": "execute_result"
    }
   ],
   "source": [
    "LGB_BO.max['target']"
   ]
  },
  {
   "cell_type": "code",
   "execution_count": 82,
   "metadata": {},
   "outputs": [
    {
     "data": {
      "text/plain": [
       "{'feature_fraction': 0.47510101267231275,\n",
       " 'lambda_l1': 2.6092416087503585,\n",
       " 'lambda_l2': 2.0733096999526177,\n",
       " 'learning_rate': 0.0867211275103418,\n",
       " 'max_depth': 16.161972720381684,\n",
       " 'min_data_in_leaf': 16.403758305413714,\n",
       " 'min_gain_to_split': 0.5684339488686485,\n",
       " 'min_sum_hessian_in_leaf': 0.00019771010635918787,\n",
       " 'num_leaves': 20.44088742689693}"
      ]
     },
     "execution_count": 82,
     "metadata": {},
     "output_type": "execute_result"
    }
   ],
   "source": [
    "LGB_BO.max['params']"
   ]
  },
  {
   "cell_type": "markdown",
   "metadata": {},
   "source": [
    "**FINAL MODEL WITH PARAMETERS**"
   ]
  },
  {
   "cell_type": "code",
   "execution_count": 83,
   "metadata": {},
   "outputs": [],
   "source": [
    "param_lgb = {\n",
    "        'num_leaves': int(LGB_BO.max['params']['num_leaves']), # remember to int here\n",
    "        'min_data_in_leaf': int(LGB_BO.max['params']['min_data_in_leaf']), # remember to int here\n",
    "        'learning_rate': LGB_BO.max['params']['learning_rate'],\n",
    "        'min_sum_hessian_in_leaf': LGB_BO.max['params']['min_sum_hessian_in_leaf'],\n",
    "        'bagging_fraction': 1.0, \n",
    "        'feature_fraction': LGB_BO.max['params']['feature_fraction'],\n",
    "        'lambda_l1': LGB_BO.max['params']['lambda_l1'],\n",
    "        'lambda_l2': LGB_BO.max['params']['lambda_l2'],\n",
    "        'min_gain_to_split': LGB_BO.max['params']['min_gain_to_split'],\n",
    "        'max_depth': int(LGB_BO.max['params']['max_depth']), # remember to int here\n",
    "        'save_binary': True,\n",
    "        'objective': 'binary',\n",
    "        'boosting_type': 'gbdt',\n",
    "        'verbose': 1,\n",
    "        'metric': 'mae',\n",
    "        'is_unbalance': True,\n",
    "        'boost_from_average': True,\n",
    "    }"
   ]
  },
  {
   "cell_type": "code",
   "execution_count": 84,
   "metadata": {},
   "outputs": [],
   "source": [
    "nfold = 5"
   ]
  },
  {
   "cell_type": "code",
   "execution_count": 85,
   "metadata": {},
   "outputs": [
    {
     "data": {
      "text/plain": [
       "231"
      ]
     },
     "execution_count": 85,
     "metadata": {},
     "output_type": "execute_result"
    }
   ],
   "source": [
    "import gc\n",
    "gc.collect()"
   ]
  },
  {
   "cell_type": "code",
   "execution_count": 86,
   "metadata": {},
   "outputs": [],
   "source": [
    "skf = StratifiedKFold(n_splits=nfold, shuffle=True, random_state=2019)"
   ]
  },
  {
   "cell_type": "code",
   "execution_count": 87,
   "metadata": {},
   "outputs": [],
   "source": [
    "oof = np.zeros(len(train_df))\n",
    "predictions = np.zeros((len(test),nfold))"
   ]
  },
  {
   "cell_type": "code",
   "execution_count": 88,
   "metadata": {},
   "outputs": [
    {
     "name": "stdout",
     "output_type": "stream",
     "text": [
      "\n",
      "fold 1\n",
      "Training until validation scores don't improve for 50 rounds.\n",
      "Early stopping, best iteration is:\n",
      "[86]\tvalid_0's l1: 0.460268\n",
      "\n",
      "fold 2\n",
      "Training until validation scores don't improve for 50 rounds.\n",
      "Early stopping, best iteration is:\n",
      "[96]\tvalid_0's l1: 0.461407\n",
      "\n",
      "fold 3\n",
      "Training until validation scores don't improve for 50 rounds.\n",
      "Early stopping, best iteration is:\n",
      "[89]\tvalid_0's l1: 0.45921\n",
      "\n",
      "fold 4\n",
      "Training until validation scores don't improve for 50 rounds.\n",
      "Early stopping, best iteration is:\n",
      "[98]\tvalid_0's l1: 0.460155\n",
      "\n",
      "fold 5\n",
      "Training until validation scores don't improve for 50 rounds.\n",
      "Early stopping, best iteration is:\n",
      "[90]\tvalid_0's l1: 0.461139\n",
      "\n",
      "\n",
      "CV AUC: 0.65\n"
     ]
    }
   ],
   "source": [
    "i = 1\n",
    "for train_index, valid_index in skf.split(train_df, train_df.is_goal.values):\n",
    "    print(\"\\nfold {}\".format(i))\n",
    "    xg_train = lgb.Dataset(train_df.iloc[train_index][predictors].values,\n",
    "                           label=train_df.iloc[train_index][target].values,\n",
    "                           feature_name=predictors,\n",
    "                           free_raw_data = False\n",
    "                           )\n",
    "    xg_valid = lgb.Dataset(train_df.iloc[valid_index][predictors].values,\n",
    "                           label=train_df.iloc[valid_index][target].values,\n",
    "                           feature_name=predictors,\n",
    "                           free_raw_data = False\n",
    "                           )   \n",
    "\n",
    "    \n",
    "    clf = lgb.train(param_lgb, xg_train, 5000, valid_sets = [xg_valid], verbose_eval=250, early_stopping_rounds = 50)\n",
    "    oof[valid_index] = clf.predict(train_df.iloc[valid_index][predictors].values, num_iteration=clf.best_iteration) \n",
    "    \n",
    "    predictions[:,i-1] += clf.predict(test[predictors], num_iteration=clf.best_iteration)\n",
    "    i = i + 1\n",
    "\n",
    "print(\"\\n\\nCV AUC: {:<0.2f}\".format(metrics.roc_auc_score(train_df.is_goal.values, oof)))"
   ]
  },
  {
   "cell_type": "code",
   "execution_count": 89,
   "metadata": {},
   "outputs": [
    {
     "data": {
      "text/plain": [
       "array([[0.38666476, 0.36811956, 0.36813918, 0.32925213, 0.39172821],\n",
       "       [0.51829351, 0.53242939, 0.52897851, 0.5658103 , 0.61198999],\n",
       "       [0.69377512, 0.69014445, 0.69804856, 0.68649546, 0.70197601],\n",
       "       ...,\n",
       "       [0.66757309, 0.67342603, 0.69080125, 0.67655598, 0.66546996],\n",
       "       [0.74626097, 0.72609253, 0.75190906, 0.76112773, 0.75410171],\n",
       "       [0.59677058, 0.49146025, 0.58982563, 0.58419719, 0.508237  ]])"
      ]
     },
     "execution_count": 89,
     "metadata": {},
     "output_type": "execute_result"
    }
   ],
   "source": [
    "predictions"
   ]
  },
  {
   "cell_type": "code",
   "execution_count": 90,
   "metadata": {},
   "outputs": [],
   "source": [
    "submission['is_goal'] = predictions"
   ]
  },
  {
   "cell_type": "code",
   "execution_count": 91,
   "metadata": {},
   "outputs": [
    {
     "data": {
      "text/plain": [
       "count    5000.000000\n",
       "mean        0.498711\n",
       "std         0.135392\n",
       "min         0.049694\n",
       "25%         0.413978\n",
       "50%         0.464472\n",
       "75%         0.552416\n",
       "max         0.930623\n",
       "Name: is_goal, dtype: float64"
      ]
     },
     "execution_count": 91,
     "metadata": {},
     "output_type": "execute_result"
    }
   ],
   "source": [
    "submission['is_goal'].describe()"
   ]
  },
  {
   "cell_type": "code",
   "execution_count": 93,
   "metadata": {},
   "outputs": [],
   "source": [
    "submission.to_csv('dalip_patra_08081998_prediction_15.csv')"
   ]
  },
  {
   "cell_type": "code",
   "execution_count": null,
   "metadata": {},
   "outputs": [],
   "source": []
  }
 ],
 "metadata": {
  "kernelspec": {
   "display_name": "Python 3",
   "language": "python",
   "name": "python3"
  },
  "language_info": {
   "codemirror_mode": {
    "name": "ipython",
    "version": 3
   },
   "file_extension": ".py",
   "mimetype": "text/x-python",
   "name": "python",
   "nbconvert_exporter": "python",
   "pygments_lexer": "ipython3",
   "version": "3.6.5"
  }
 },
 "nbformat": 4,
 "nbformat_minor": 2
}
